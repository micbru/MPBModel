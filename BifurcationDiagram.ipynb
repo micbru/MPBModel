{
 "cells": [
  {
   "cell_type": "markdown",
   "id": "0e371027",
   "metadata": {},
   "source": [
    "This notebook contains all of the functions necessary for analyzing the stability numerically with a reasonable parameter range for both the full function and the Hill function approximation.\n",
    "\n",
    "1. Bifurcation diagram "
   ]
  },
  {
   "cell_type": "code",
   "execution_count": 1,
   "id": "8cc9d9b8",
   "metadata": {},
   "outputs": [],
   "source": [
    "# Setup\n",
    "import analysisfunctions as af\n",
    "import numpy as np\n",
    "import scipy.optimize as opt\n",
    "import matplotlib.pyplot as plt\n",
    "plt.rcParams['font.family'] = 'serif'\n",
    "\n",
    "# Fixed parameters\n",
    "# Beetle productivity\n",
    "c = 500\n",
    "# Fixed values of k and phi\n",
    "k=10;p=200;\n",
    "# Fixed value of s\n",
    "s=0.99;\n",
    "# m range\n",
    "mr = np.linspace(0,c,num=1000)\n",
    "\n",
    "# Colors\n",
    "c1 = '#00485C' # This is the official dark blue\n",
    "c2 = '#0084A8' # Official light blue\n",
    "c3 = '#986532' # Official \"yellow\", which is more dark brown.\n",
    "cg = '0.4' # Grey\n",
    "# Other options:\n",
    "#'#F2E2CA' # Pale straw yellow \n",
    "#'#986532' # Darker brown\n",
    "# And generate an array of lightness values, from 5% to 95% lightness including the official one which is 18%.\n",
    "# 20 colors, and index 16 is the initial one\n",
    "# Useful link: https://www.w3schools.com/colors/colors_picker.asp\n",
    "c_arr = [ '#e6f9ff','#ccf4ff','#b3eeff','#99e9ff','#80e3ff','#66deff','#4dd8ff','#33d3ff','#1acdff','#00c8ff',\n",
    "          '#00b4e6','#00a0cc','#008cb3','#007899','#006480','#005066','#00485c','#003c4d','#002833','#00141a']"
   ]
  },
  {
   "cell_type": "markdown",
   "id": "f78aa0fd",
   "metadata": {},
   "source": [
    "# 1. Bifurcation diagram"
   ]
  },
  {
   "cell_type": "code",
   "execution_count": 2,
   "id": "0c4fdbce",
   "metadata": {},
   "outputs": [],
   "source": [
    "# Set range of threshold phi to investigate\n",
    "pr_bif = np.arange(c)+1 # Make the smallest threshold 1\n",
    "\n",
    "# Because the optimum n is different for each threshold, we can either take the n directly from the fixed k and p as\n",
    "n = af.get_hill_n(k,p,c)\n",
    "# Or we can find the distribution of n across all thresholds for p\n",
    "# This is kind of slow, so only run it if we want to use it.\n",
    "# If we do this, we find the median is 4.89 and the mean is 5.0, which is very comparable to the default of 4.87.\n",
    "#narr = np.array([get_hill_n(k,p,c,nmax=50) for p in pr])\n",
    "#print(np.median(narr), narr.mean()) # The median is 4.89 and the mean is 5.0"
   ]
  },
  {
   "cell_type": "code",
   "execution_count": 3,
   "id": "4e79798e",
   "metadata": {},
   "outputs": [],
   "source": [
    "# Get the values of m against phi for the bifurcation plots\n",
    "\n",
    "# Find the critical point for m and p\n",
    "ms_hill = c*(n-1)/n\n",
    "peq_hill = (n-1)**((n-1)/n)/n*c\n",
    "# Given (n-1)/n ~ 0.8, we should see outbreaks for gamma < 0.80*c, or ~400\n",
    "\n",
    "# Numerically we have to find the critical point for the full function with varying p\n",
    "peq_sol = opt.root(lambda x: af.fdf_eq(x[0],c,k,x[1]),x0=[300,300])\n",
    "ms_full,peq_full = peq_sol.x\n",
    "# Numerically ms_hill and ms_full should be similar.\n",
    "\n",
    "# Now for each pr, solve for m. Solve for bottom and top root and ignore m=0, since that is always a solution\n",
    "mhill = np.zeros((len(pr_bif),2))\n",
    "mfull = np.zeros((len(pr_bif),2))\n",
    "\n",
    "# Define an epsilon away from 0 for bracketing.\n",
    "me = 0.0001\n",
    "\n",
    "for i,pp in enumerate(pr_bif):\n",
    "    # Check for first root.\n",
    "    # m/c always starts positive, so if this is less than 0 at the midpoint, \n",
    "    # then there is an additional root and if not, then we leave it at 0.\n",
    "    if ms_hill/c - 1 + af.fhill(ms_hill,n,pp) < 0:\n",
    "        # Bracket the first room from epsilon to the critical value\n",
    "        mhill[i,0] = opt.root_scalar(lambda x: x/c - 1 + af.fhill(x,n,pp),bracket=[me,ms_hill]).root\n",
    "        # If we have first root we also have second, above the critical value (except exactly at m*)\n",
    "        mhill[i,1] = opt.root_scalar(lambda x: x/c - 1 + af.fhill(x,n,pp),bracket=[ms_hill,c]).root\n",
    "    # Now for the full function\n",
    "    if ms_full/c - 1 + af.ffull(ms_full,k,pp) < 0:\n",
    "        mfull[i,0] = opt.root_scalar(lambda x: x/c - 1 + af.ffull(x,k,pp),bracket=[me,ms_full]).root\n",
    "        mfull[i,1] = opt.root_scalar(lambda x: x/c - 1 + af.ffull(x,k,pp),bracket=[ms_full,c]).root"
   ]
  },
  {
   "cell_type": "code",
   "execution_count": 4,
   "id": "75250319",
   "metadata": {},
   "outputs": [
    {
     "name": "stdout",
     "output_type": "stream",
     "text": [
      "Values of phi where we no longer have the two non-trivial solutions\n",
      "Hill function, and then Full function, with k=10, n=4.9\n",
      "[301, 290]\n",
      "Compare with expected outbreaks from approximations at\n",
      "m* = 397.23, phi* = 300.86\n",
      "And compare with numerical solution earlier for the full function at\n",
      "m* = 398.23, phi* = 289.73\n"
     ]
    }
   ],
   "source": [
    "# Check to make sur ethat the above code snippet worked and print out some information\n",
    "\n",
    "# Save phi where things are first non-zero for upper and middle branches\n",
    "phi_hill = [mhill[:,0]==0,mhill[:,1]==0]\n",
    "phi_full = [mfull[:,0]==0,mfull[:,1]==0]\n",
    "\n",
    "# Save indices of first non zero occurance.\n",
    "phi_i = []\n",
    "for phi in [phi_hill,phi_full]:\n",
    "    if np.nonzero(phi[0])[0][0]==np.nonzero(phi[1])[0][0]:\n",
    "        phi_i.append(np.nonzero(phi[0])[0][0])\n",
    "    else:\n",
    "        # If we are here in the code there could be an error in how we calculated zeros above, \n",
    "        # as the zeros aren't appearing in the same place\n",
    "        print(\"Non zero in different spots! This could be an error.\")\n",
    "        phi_i.append([np.nonzero(phi[0])[0][0],np.nonzero(phi[1])[0][0]])\n",
    "    \n",
    "# Get values of phi for each case\n",
    "phi_val = [pr_bif[i] for i in phi_i]\n",
    "print(\"Values of phi where we no longer have the two non-trivial solutions\")\n",
    "print(\"Hill function, and then Full function, with k={:.0f}, n={:.1f}\".format(k,n))\n",
    "print(phi_val)\n",
    "print(\"Compare with expected outbreaks from approximations at\")\n",
    "print(\"m* = {:.2f}, phi* = {:.2f}\".format(ms_hill,peq_hill))\n",
    "print(\"And compare with numerical solution earlier for the full function at\")\n",
    "print(\"m* = {:.2f}, phi* = {:.2f}\".format(ms_full,peq_full))"
   ]
  },
  {
   "cell_type": "code",
   "execution_count": 5,
   "id": "22fa9106",
   "metadata": {},
   "outputs": [],
   "source": [
    "# Now calculate the spectral radius everywhere\n",
    "spec_full = np.zeros((len(pr_bif),3))\n",
    "spec_hill = np.zeros((len(pr_bif),3))\n",
    "\n",
    "for spec,mr,kk,f,df in zip([spec_full,spec_hill],[mfull,mhill],[k,n],[af.ffull,af.fhill],[af.dffull,af.dfhill]):\n",
    "    for i,p in enumerate(pr_bif):\n",
    "        spec[i,0] = af.specrad(0,s,c,f,df,kk,p)\n",
    "        spec[i,1] = af.specrad(mr[i,0],s,c,f,df,kk,p)\n",
    "        spec[i,2] = af.specrad(mr[i,1],s,c,f,df,kk,p)\n",
    "        \n",
    "# Now turn these into indices for stability\n",
    "stableargs_full = spec_full<1\n",
    "stableargs_hill = spec_hill<1"
   ]
  },
  {
   "cell_type": "code",
   "execution_count": 6,
   "id": "2d735a25",
   "metadata": {},
   "outputs": [
    {
     "data": {
      "image/png": "[encoded data removed]",
      "text/plain": [
       "<Figure size 216x216 with 1 Axes>"
      ]
     },
     "metadata": {
      "needs_background": "light"
     },
     "output_type": "display_data"
    }
   ],
   "source": [
    "# Now plot\n",
    "fig,ax = plt.subplots(1,1,figsize=(3,3))\n",
    "\n",
    "# For each branch, plot stable points using solid lines and unstable using dashed\n",
    "for args, m, cc, lb in zip([stableargs_full,stableargs_hill],[mfull,mhill],\n",
    "                           [c2,c3],['Full function','Hill function']):\n",
    "    # For zero branch, assume it works, and don't plot if it doesn't\n",
    "    if np.all(args[:,0]):\n",
    "        ax.plot(pr_bif,np.zeros(len(pr_bif)),c=cc,ls='-',label=lb)\n",
    "    # For the other branches, plot according to stability, and only if m > 0\n",
    "    for i in np.arange(2):\n",
    "        args2 = m[:,i]>0\n",
    "        ids = args[:,i+1]&args2\n",
    "        ids2 = (~args[:,i+1])&args2\n",
    "        ax.plot(pr_bif[ids],m[ids,i],c=cc,ls='-')\n",
    "        ax.plot(pr_bif[ids2],m[ids2,i],c=cc,ls='--',dashes=(1.2, 0.7))\n",
    "\n",
    "# Plot expected outbreak point\n",
    "ax.scatter(peq_hill,ms_hill,c=c3,s=10,marker='*')\n",
    "\n",
    "# Fix up axes, labels etc.\n",
    "ax.set_xlim(0,c)\n",
    "ax.set_ylim(-10,510)\n",
    "ax.set_xlabel(r'$\\varphi$, Threshold')\n",
    "ax.set_ylabel(r'$m$, Mean number of beetles')\n",
    "ax.set_box_aspect(1)\n",
    "ax.legend()\n",
    "\n",
    "fig.savefig('figures/bifurcation_plot.pdf',bbox_inches='tight')"
   ]
  },
  {
   "cell_type": "code",
   "execution_count": null,
   "id": "85b487c5",
   "metadata": {},
   "outputs": [],
   "source": []
  }
 ],
 "metadata": {
  "kernelspec": {
   "display_name": "Python 3 (ipykernel)",
   "language": "python",
   "name": "python3"
  },
  "language_info": {
   "codemirror_mode": {
    "name": "ipython",
    "version": 3
   },
   "file_extension": ".py",
   "mimetype": "text/x-python",
   "name": "python",
   "nbconvert_exporter": "python",
   "pygments_lexer": "ipython3",
   "version": "3.9.12"
  }
 },
 "nbformat": 4,
 "nbformat_minor": 5
}
